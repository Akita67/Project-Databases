{
 "cells": [
  {
   "cell_type": "code",
<<<<<<< HEAD
   "execution_count": 1,
=======
   "execution_count": 2,
>>>>>>> 144edce3e5a81e16988955eb56a509e058e7d55a
   "metadata": {},
   "outputs": [],
   "source": [
    "import mysql.connector\n",
<<<<<<< HEAD
    "from decimal import Decimal\n",
    "from datetime import datetime\n",
    "\n",
    "mydb = mysql.connector.connect(\n",
    "    host=\"localhost\",\n",
    "    user=\"root\",\n",
    "    password=\"ALKATRAZE17omega\",\n",
=======
    "\n",
    "mydb = mysql.connector.connect(\n",
    "    host=\"127.0.0.1\",\n",
    "    user=\"root\",\n",
    "    password=\"#MySQL/rivage67\",\n",
>>>>>>> 144edce3e5a81e16988955eb56a509e058e7d55a
    "    database=\"mydb\"\n",
    ")\n",
    "\n",
    "mycursor = mydb.cursor(buffered=True)"
   ]
  },
  {
   "cell_type": "code",
<<<<<<< HEAD
   "execution_count": 2,
   "metadata": {},
   "outputs": [],
   "source": [
    "\n",
    "def pizza_ingredient(pizza):\n",
    "    querry = \"\"\"\n",
    "    SELECT \n",
    "    ingredient_pizza.idIngredient, ingredient.vegetarian\n",
    "    FROM \n",
    "    ingredient_pizza JOIN ingredient \n",
    "    ON ingredient_pizza.idIngredient = ingredient.idIngredient \n",
    "    WHERE idPizza = '{}'\n",
    "    \"\"\".format(pizza)\n",
    "    mycursor.execute(querry)\n",
    "    \n",
    "    my_result = mycursor.fetchall()\n",
    "    if len(my_result) == 0: #if there are no igredients then the pizza was not found in the ingredient list\n",
    "        return None\n",
    "    \n",
    "    ingredients, veg = zip(*my_result)\n",
    "    \n",
    "    #convert from tuple to list\n",
    "    ingredients = list(ingredients)\n",
    "    veg = list(veg)\n",
    "    \n",
    "    #append vegetarian boolean at the end of the ingredient list\n",
    "    for i, x in enumerate(veg):\n",
    "        if x == 0:\n",
    "            ingredients.append(0)\n",
    "            break\n",
    "        elif i == len(veg) - 1:\n",
    "            ingredients.append(1)\n",
    "            \n",
    "    return ingredients"
=======
   "execution_count": 15,
   "metadata": {},
   "outputs": [],
   "source": [
    "def pizza_ingredient(pizza):\n",
    "    querry = \"SELECT idIngredient FROM ingredient_pizza WHERE idPizza = '{}'\".format(pizza)\n",
    "    mycursor.execute(querry)\n",
    "    \n",
    "    my_result = mycursor.fetchall()\n",
    "    \n",
    "    if len(my_result) == 0: #if there are no igredients then the pizza was not found in the ingredient list\n",
    "        return None\n",
    "    \n",
    "    final_result = []\n",
    "    for x in my_result:\n",
    "        final_result.append(x[0])#x is a tuple: (ingredient, ), this line removes the tuple\n",
    "        \n",
    "    return final_result"
>>>>>>> 144edce3e5a81e16988955eb56a509e058e7d55a
   ]
  },
  {
   "cell_type": "code",
<<<<<<< HEAD
   "execution_count": 3,
   "metadata": {},
   "outputs": [],
=======
   "execution_count": 16,
   "metadata": {},
   "outputs": [
    {
     "name": "stdout",
     "output_type": "stream",
     "text": [
      "SELECT idIngredient FROM ingredient_pizza WHERE idPizza = 'forbigboys'\n",
      "['beef', 'cream', 'olives', 'pizza dough', 'sausages', 'spinach', 'tomato sauce']\n"
     ]
    }
   ],
>>>>>>> 144edce3e5a81e16988955eb56a509e058e7d55a
   "source": [
    "#print(pizza_ingredient(\"forbigboys\"))"
   ]
  },
  {
   "cell_type": "code",
   "execution_count": 4,
   "metadata": {},
   "outputs": [],
   "source": [
    "#returns a list of (name, price) tuples for item_type 'pizza', 'drink' and 'dessert'\n",
    "def get_menu_listing(item_type):\n",
    "    \n",
<<<<<<< HEAD
    "    #func to add vat and margin\n",
    "    def mark_up(tuple_list):\n",
    "        mark_up_list = []\n",
    "        for name, price in tuple_list:\n",
    "            price = price * Decimal('1.09')#prices in the database are stored as decimal rather than float\n",
    "            price = price * Decimal('1.4')\n",
    "            mark_up_list.append((name, round(price, 2)))\n",
    "\n",
    "        return mark_up_list\n",
    "    \n",
=======
>>>>>>> 144edce3e5a81e16988955eb56a509e058e7d55a
    "    # gets menu items from drink or deserts with their price.\n",
    "    def get_direct_list(item_type):\n",
    "        primary_key = \"id\" + item_type.capitalize()#our naming convention for primary keys\n",
    "\n",
    "        querry = \" SELECT {}, price FROM {}\".format(primary_key, item_type)\n",
    "        mycursor.execute(querry)\n",
    "\n",
    "        my_result = mycursor.fetchall()\n",
<<<<<<< HEAD
    "        return mark_up(my_result)\n",
=======
    "\n",
    "        return my_result\n",
>>>>>>> 144edce3e5a81e16988955eb56a509e058e7d55a
    "    \n",
    "    #get's the price of pizza through ingredient prices\n",
    "    def get_pizza_list():\n",
    "        querry = \"\"\"\n",
    "        SELECT idPizza, SUM(price) FROM \n",
    "        (SELECT \n",
    "        ingredient_pizza.idPizza, \n",
    "        ingredient.price\n",
    "        FROM \n",
    "        ingredient_pizza INNER JOIN ingredient\n",
    "        ON\n",
    "        ingredient_pizza.idIngredient = ingredient.idIngredient) AS pizza_ingredient_price\n",
    "        GROUP BY idPizza\n",
    "        \"\"\"\n",
    "\n",
    "        mycursor.execute(querry)\n",
    "\n",
    "        my_result = mycursor.fetchall()\n",
    "\n",
<<<<<<< HEAD
    "        return mark_up(my_result)\n",
=======
    "        return my_result#the first(and only) variable of the first(and only) tuple\n",
>>>>>>> 144edce3e5a81e16988955eb56a509e058e7d55a
    "    \n",
    "    #decide whether to us the pizza lister or other lister\n",
    "    primary_key = \"id\" + item_type.capitalize()#our naming convention for primary keys\n",
    "    if item_type == 'pizza':\n",
    "        return get_pizza_list()\n",
    "    else:\n",
    "        return get_direct_list(item_type)"
   ]
  },
  {
   "cell_type": "code",
<<<<<<< HEAD
   "execution_count": 5,
   "metadata": {},
   "outputs": [],
   "source": [
    "def check_coupon(coupon):\n",
    "    querry = \"SELECT code FROM discount WHERE code = {}\".format(code)\n",
    "    mycursor.execute(querry)\n",
    "    my_result = mycursor.fetchall()\n",
    "\n",
    "    if len(my_result) == 0:\n",
    "        return False\n",
    "    else:\n",
    "        return True\n",
    "\n",
    "#calculate order total\n",
    "def order_total(order_list, valid_coupon=False):\n",
    "\n",
    "    total = 0\n",
    "    for name, price, quantity in order_list:\n",
    "        total += price * quantity\n",
    "        \n",
    "    if valid_coupon:\n",
    "        total = total * 0.9\n",
    "\n",
    "    return total\n",
    "\n",
    "def excute_order(order_list, idCustomer, use_coupon=None, reward_coupon=None):\n",
    "    #get next idOrder auto-increment\n",
    "    id_querry = \"\"\"\n",
    "    SELECT `AUTO_INCREMENT`\n",
    "    FROM  INFORMATION_SCHEMA.TABLES\n",
    "    WHERE TABLE_SCHEMA = 'mydb'\n",
    "    AND   TABLE_NAME   = 'orders';\"\"\"\n",
    "\n",
    "    mycursor.execute(id_querry)\n",
    "    my_result = mycursor.fetchone()\n",
    "    idOrder = my_result[0]\n",
    "\n",
    "    #insert in order table\n",
    "    #check coupon values\n",
    "    if use_coupon is None:\n",
    "        use_coupon = 'NULL'\n",
    "    if reward_coupon is None:\n",
    "        reward_coupon = 'NULL'\n",
    "\n",
    "    #insert the order\n",
    "    order_querry = \"\"\"\n",
    "    INSERT INTO \n",
    "    orders (order_date_time, use_coupon, reward_coupon, idCustomer)\n",
    "    VALUES (NOW(), {}, {}, {})\n",
    "    \"\"\".format(use_coupon,reward_coupon,idCustomer)\n",
    "\n",
    "    mycursor.execute(order_querry)\n",
    "\n",
    "    #add items to order\n",
    "    for item, quantity in order_list:\n",
    "\n",
    "        item_querry = \"\"\"\n",
    "        INSRT INTO\n",
    "        menu_order (idMenu, idOrder, quantity)\n",
    "        VALUES ('{}','{}','{}')\n",
    "        \"\"\".format(item, idOrder, quantity)\n",
    "\n",
    "        mycursor.execute(item_querry)\n",
    "    #commit the order and all items in one transaction\n",
    "    mydb.commit()"
   ]
  },
  {
   "cell_type": "code",
   "execution_count": 6,
   "metadata": {},
   "outputs": [],
   "source": [
    "def get_pizza_count(idCustomer):\n",
    "    pass"
   ]
  },
  {
   "cell_type": "code",
   "execution_count": 10,
   "metadata": {},
   "outputs": [],
   "source": [
    "def get_next_id():\n",
    "    id_querry = \"\"\"\n",
    "    SELECT `AUTO_INCREMENT`\n",
    "    FROM  INFORMATION_SCHEMA.TABLES\n",
    "    WHERE TABLE_SCHEMA = 'mydb'\n",
    "    AND   TABLE_NAME   = 'customer';\"\"\" \n",
    "    \n",
    "    mycursor.execute(id_querry)\n",
    "    my_result = mycursor.fetchone()\n",
    "    idOrder = my_result[0]\n",
    "    print(idOrder)"
   ]
  },
  {
   "cell_type": "code",
   "execution_count": 31,
   "metadata": {},
   "outputs": [],
   "source": [
    "def get_order_list(idCustomer):\n",
    "    querry = \"\"\"\n",
    "    SELECT idOrder, order_date_time \n",
    "    FROM orders \n",
    "    WHERE idCustomer = {}\n",
    "    \"\"\".format(idCustomer)\n",
    "    \n",
    "    mycursor.execute(querry)\n",
    "    my_result = mycursor.fetchall()\n",
    "    \n",
    "    id_order, time = zip(*my_result)\n",
    "    id_order = list(id_order)\n",
    "    time = list(time)\n",
    "    str_time = []\n",
    "    for t in time:\n",
    "        str_time.append(t.strftime(\"%m/%d/%Y, %H:%M\"))\n",
    "    \n",
    "    final_result = list(zip(id_order, str_time))\n",
    "    \n",
    "    return final_result"
   ]
  },
  {
   "cell_type": "code",
   "execution_count": 34,
   "metadata": {},
   "outputs": [
    {
     "data": {
      "text/plain": [
       "[(3, '10/13/2022, 11:27'),\n",
       " (6, '10/13/2022, 11:32'),\n",
       " (7, '10/13/2022, 11:34'),\n",
       " (8, '10/13/2022, 11:35'),\n",
       " (9, '10/13/2022, 11:35'),\n",
       " (10, '10/13/2022, 11:35'),\n",
       " (11, '10/13/2022, 11:35'),\n",
       " (12, '10/13/2022, 11:36'),\n",
       " (13, '10/13/2022, 11:36'),\n",
       " (14, '10/13/2022, 11:40')]"
      ]
     },
     "execution_count": 34,
     "metadata": {},
     "output_type": "execute_result"
    }
   ],
   "source": [
    "get_order_list(1)"
   ]
=======
   "execution_count": 9,
   "metadata": {},
   "outputs": [
    {
     "name": "stdout",
     "output_type": "stream",
     "text": [
      "17:14:41.727252\n",
      "[1, datetime.time(17, 14, 41, 727252)]\n",
      "checking\n",
      "checking\n",
      "checking\n",
      "checking\n",
      "checking\n"
     ]
    },
    {
     "ename": "IntegrityError",
     "evalue": "1452 (23000): Cannot add or update a child row: a foreign key constraint fails (`mydb`.`delivery_ops`, CONSTRAINT `FK_idOrderDelivering` FOREIGN KEY (`idOrder`) REFERENCES `orders` (`idOrder`))",
     "output_type": "error",
     "traceback": [
      "\u001b[1;31m---------------------------------------------------------------------------\u001b[0m",
      "\u001b[1;31mMySQLInterfaceError\u001b[0m                       Traceback (most recent call last)",
      "File \u001b[1;32mD:\\Anaconda\\lib\\site-packages\\mysql\\connector\\connection_cext.py:555\u001b[0m, in \u001b[0;36mCMySQLConnection.cmd_query\u001b[1;34m(self, query, raw, buffered, raw_as_string)\u001b[0m\n\u001b[0;32m    554\u001b[0m         query \u001b[38;5;241m=\u001b[39m query\u001b[38;5;241m.\u001b[39mencode(\u001b[38;5;124m\"\u001b[39m\u001b[38;5;124mutf-8\u001b[39m\u001b[38;5;124m\"\u001b[39m)\n\u001b[1;32m--> 555\u001b[0m     \u001b[38;5;28;43mself\u001b[39;49m\u001b[38;5;241;43m.\u001b[39;49m\u001b[43m_cmysql\u001b[49m\u001b[38;5;241;43m.\u001b[39;49m\u001b[43mquery\u001b[49m\u001b[43m(\u001b[49m\n\u001b[0;32m    556\u001b[0m \u001b[43m        \u001b[49m\u001b[43mquery\u001b[49m\u001b[43m,\u001b[49m\n\u001b[0;32m    557\u001b[0m \u001b[43m        \u001b[49m\u001b[43mraw\u001b[49m\u001b[38;5;241;43m=\u001b[39;49m\u001b[43mraw\u001b[49m\u001b[43m,\u001b[49m\n\u001b[0;32m    558\u001b[0m \u001b[43m        \u001b[49m\u001b[43mbuffered\u001b[49m\u001b[38;5;241;43m=\u001b[39;49m\u001b[43mbuffered\u001b[49m\u001b[43m,\u001b[49m\n\u001b[0;32m    559\u001b[0m \u001b[43m        \u001b[49m\u001b[43mraw_as_string\u001b[49m\u001b[38;5;241;43m=\u001b[39;49m\u001b[43mraw_as_string\u001b[49m\u001b[43m,\u001b[49m\n\u001b[0;32m    560\u001b[0m \u001b[43m        \u001b[49m\u001b[43mquery_attrs\u001b[49m\u001b[38;5;241;43m=\u001b[39;49m\u001b[38;5;28;43mself\u001b[39;49m\u001b[38;5;241;43m.\u001b[39;49m\u001b[43m_query_attrs\u001b[49m\u001b[43m,\u001b[49m\n\u001b[0;32m    561\u001b[0m \u001b[43m    \u001b[49m\u001b[43m)\u001b[49m\n\u001b[0;32m    562\u001b[0m \u001b[38;5;28;01mexcept\u001b[39;00m MySQLInterfaceError \u001b[38;5;28;01mas\u001b[39;00m err:\n",
      "\u001b[1;31mMySQLInterfaceError\u001b[0m: Cannot add or update a child row: a foreign key constraint fails (`mydb`.`delivery_ops`, CONSTRAINT `FK_idOrderDelivering` FOREIGN KEY (`idOrder`) REFERENCES `orders` (`idOrder`))",
      "\nThe above exception was the direct cause of the following exception:\n",
      "\u001b[1;31mIntegrityError\u001b[0m                            Traceback (most recent call last)",
      "Input \u001b[1;32mIn [9]\u001b[0m, in \u001b[0;36m<cell line: 45>\u001b[1;34m()\u001b[0m\n\u001b[0;32m     49\u001b[0m     result \u001b[38;5;241m=\u001b[39m mycursor\u001b[38;5;241m.\u001b[39mexecute(availability)\n\u001b[0;32m     50\u001b[0m     \u001b[38;5;28;01mif\u001b[39;00m result \u001b[38;5;241m==\u001b[39m \u001b[38;5;28;01mNone\u001b[39;00m:\n\u001b[1;32m---> 51\u001b[0m         \u001b[43mdelivery10\u001b[49m\u001b[43m(\u001b[49m\u001b[43mqueueOrders\u001b[49m\u001b[38;5;241;43m.\u001b[39;49m\u001b[43mpop\u001b[49m\u001b[43m(\u001b[49m\u001b[38;5;241;43m0\u001b[39;49m\u001b[43m)\u001b[49m\u001b[43m)\u001b[49m\n\u001b[0;32m     52\u001b[0m         queueOrders\u001b[38;5;241m.\u001b[39mpop(\u001b[38;5;241m0\u001b[39m)\n\u001b[0;32m     53\u001b[0m \u001b[38;5;28;01melif\u001b[39;00m postcode\u001b[38;5;241m==\u001b[39m\u001b[38;5;241m20\u001b[39m:\n",
      "Input \u001b[1;32mIn [9]\u001b[0m, in \u001b[0;36mdelivery10\u001b[1;34m(idOrder)\u001b[0m\n\u001b[0;32m     18\u001b[0m queueDelivering10\u001b[38;5;241m.\u001b[39mappend(idOrder)\n\u001b[0;32m     19\u001b[0m queueDelivering10\u001b[38;5;241m.\u001b[39mappend(datetime\u001b[38;5;241m.\u001b[39mtoday() \u001b[38;5;241m+\u001b[39m timedelta(minutes\u001b[38;5;241m=\u001b[39m\u001b[38;5;241m30\u001b[39m))\n\u001b[1;32m---> 20\u001b[0m \u001b[43mmycursor\u001b[49m\u001b[38;5;241;43m.\u001b[39;49m\u001b[43mexecute\u001b[49m\u001b[43m(\u001b[49m\u001b[38;5;124;43m\"\u001b[39;49m\u001b[38;5;124;43mUPDATE delivery_ops SET idOrder = \u001b[39;49m\u001b[38;5;124;43m'\u001b[39;49m\u001b[38;5;132;43;01m{}\u001b[39;49;00m\u001b[38;5;124;43m'\u001b[39;49m\u001b[38;5;124;43m WHERE idDriver = 1 \u001b[39;49m\u001b[38;5;124;43m\"\u001b[39;49m\u001b[38;5;241;43m.\u001b[39;49m\u001b[43mformat\u001b[49m\u001b[43m(\u001b[49m\u001b[43midOrder\u001b[49m\u001b[43m)\u001b[49m\u001b[43m)\u001b[49m\n\u001b[0;32m     22\u001b[0m \u001b[38;5;28mprint\u001b[39m(result)\n",
      "File \u001b[1;32mD:\\Anaconda\\lib\\site-packages\\mysql\\connector\\cursor_cext.py:276\u001b[0m, in \u001b[0;36mCMySQLCursor.execute\u001b[1;34m(self, operation, params, multi)\u001b[0m\n\u001b[0;32m    271\u001b[0m             \u001b[38;5;28;01mraise\u001b[39;00m ProgrammingError(\n\u001b[0;32m    272\u001b[0m                 \u001b[38;5;124m\"\u001b[39m\u001b[38;5;124mNot all parameters were used in the SQL statement\u001b[39m\u001b[38;5;124m\"\u001b[39m\n\u001b[0;32m    273\u001b[0m             )\n\u001b[0;32m    275\u001b[0m \u001b[38;5;28;01mtry\u001b[39;00m:\n\u001b[1;32m--> 276\u001b[0m     result \u001b[38;5;241m=\u001b[39m \u001b[38;5;28;43mself\u001b[39;49m\u001b[38;5;241;43m.\u001b[39;49m\u001b[43m_cnx\u001b[49m\u001b[38;5;241;43m.\u001b[39;49m\u001b[43mcmd_query\u001b[49m\u001b[43m(\u001b[49m\n\u001b[0;32m    277\u001b[0m \u001b[43m        \u001b[49m\u001b[43mstmt\u001b[49m\u001b[43m,\u001b[49m\n\u001b[0;32m    278\u001b[0m \u001b[43m        \u001b[49m\u001b[43mraw\u001b[49m\u001b[38;5;241;43m=\u001b[39;49m\u001b[38;5;28;43mself\u001b[39;49m\u001b[38;5;241;43m.\u001b[39;49m\u001b[43m_raw\u001b[49m\u001b[43m,\u001b[49m\n\u001b[0;32m    279\u001b[0m \u001b[43m        \u001b[49m\u001b[43mbuffered\u001b[49m\u001b[38;5;241;43m=\u001b[39;49m\u001b[38;5;28;43mself\u001b[39;49m\u001b[38;5;241;43m.\u001b[39;49m\u001b[43m_buffered\u001b[49m\u001b[43m,\u001b[49m\n\u001b[0;32m    280\u001b[0m \u001b[43m        \u001b[49m\u001b[43mraw_as_string\u001b[49m\u001b[38;5;241;43m=\u001b[39;49m\u001b[38;5;28;43mself\u001b[39;49m\u001b[38;5;241;43m.\u001b[39;49m\u001b[43m_raw_as_string\u001b[49m\u001b[43m,\u001b[49m\n\u001b[0;32m    281\u001b[0m \u001b[43m    \u001b[49m\u001b[43m)\u001b[49m\n\u001b[0;32m    282\u001b[0m \u001b[38;5;28;01mexcept\u001b[39;00m MySQLInterfaceError \u001b[38;5;28;01mas\u001b[39;00m err:\n\u001b[0;32m    283\u001b[0m     \u001b[38;5;28;01mraise\u001b[39;00m get_mysql_exception(\n\u001b[0;32m    284\u001b[0m         msg\u001b[38;5;241m=\u001b[39merr\u001b[38;5;241m.\u001b[39mmsg, errno\u001b[38;5;241m=\u001b[39merr\u001b[38;5;241m.\u001b[39merrno, sqlstate\u001b[38;5;241m=\u001b[39merr\u001b[38;5;241m.\u001b[39msqlstate\n\u001b[0;32m    285\u001b[0m     ) \u001b[38;5;28;01mfrom\u001b[39;00m \u001b[38;5;21;01merr\u001b[39;00m\n",
      "File \u001b[1;32mD:\\Anaconda\\lib\\site-packages\\mysql\\connector\\connection_cext.py:563\u001b[0m, in \u001b[0;36mCMySQLConnection.cmd_query\u001b[1;34m(self, query, raw, buffered, raw_as_string)\u001b[0m\n\u001b[0;32m    555\u001b[0m     \u001b[38;5;28mself\u001b[39m\u001b[38;5;241m.\u001b[39m_cmysql\u001b[38;5;241m.\u001b[39mquery(\n\u001b[0;32m    556\u001b[0m         query,\n\u001b[0;32m    557\u001b[0m         raw\u001b[38;5;241m=\u001b[39mraw,\n\u001b[1;32m   (...)\u001b[0m\n\u001b[0;32m    560\u001b[0m         query_attrs\u001b[38;5;241m=\u001b[39m\u001b[38;5;28mself\u001b[39m\u001b[38;5;241m.\u001b[39m_query_attrs,\n\u001b[0;32m    561\u001b[0m     )\n\u001b[0;32m    562\u001b[0m \u001b[38;5;28;01mexcept\u001b[39;00m MySQLInterfaceError \u001b[38;5;28;01mas\u001b[39;00m err:\n\u001b[1;32m--> 563\u001b[0m     \u001b[38;5;28;01mraise\u001b[39;00m get_mysql_exception(\n\u001b[0;32m    564\u001b[0m         err\u001b[38;5;241m.\u001b[39merrno, msg\u001b[38;5;241m=\u001b[39merr\u001b[38;5;241m.\u001b[39mmsg, sqlstate\u001b[38;5;241m=\u001b[39merr\u001b[38;5;241m.\u001b[39msqlstate\n\u001b[0;32m    565\u001b[0m     ) \u001b[38;5;28;01mfrom\u001b[39;00m \u001b[38;5;21;01merr\u001b[39;00m\n\u001b[0;32m    566\u001b[0m \u001b[38;5;28;01mexcept\u001b[39;00m \u001b[38;5;167;01mAttributeError\u001b[39;00m \u001b[38;5;28;01mas\u001b[39;00m err:\n\u001b[0;32m    567\u001b[0m     addr \u001b[38;5;241m=\u001b[39m (\n\u001b[0;32m    568\u001b[0m         \u001b[38;5;28mself\u001b[39m\u001b[38;5;241m.\u001b[39m_unix_socket \u001b[38;5;28;01mif\u001b[39;00m \u001b[38;5;28mself\u001b[39m\u001b[38;5;241m.\u001b[39m_unix_socket \u001b[38;5;28;01melse\u001b[39;00m \u001b[38;5;124mf\u001b[39m\u001b[38;5;124m\"\u001b[39m\u001b[38;5;132;01m{\u001b[39;00m\u001b[38;5;28mself\u001b[39m\u001b[38;5;241m.\u001b[39m_host\u001b[38;5;132;01m}\u001b[39;00m\u001b[38;5;124m:\u001b[39m\u001b[38;5;132;01m{\u001b[39;00m\u001b[38;5;28mself\u001b[39m\u001b[38;5;241m.\u001b[39m_port\u001b[38;5;132;01m}\u001b[39;00m\u001b[38;5;124m\"\u001b[39m\n\u001b[0;32m    569\u001b[0m     )\n",
      "\u001b[1;31mIntegrityError\u001b[0m: 1452 (23000): Cannot add or update a child row: a foreign key constraint fails (`mydb`.`delivery_ops`, CONSTRAINT `FK_idOrderDelivering` FOREIGN KEY (`idOrder`) REFERENCES `orders` (`idOrder`))"
     ]
    }
   ],
   "source": [
    "from datetime import datetime, timedelta\n",
    "import time\n",
    "\n",
    "queueOrders = []\n",
    "\n",
    "#puts a command in the function and add 10 minutes to the queue, (for testing i used 10 secondes)\n",
    "def laurent_func(index):\n",
    "    now = datetime.today() + timedelta(seconds=10)\n",
    "    #now = datetime.today() + timedelta(minutes=10)\n",
    "    order_done = now.time()\n",
    "    print(order_done)\n",
    "    queueOrders.append(index)\n",
    "    queueOrders.append(order_done)\n",
    "        \n",
    "    \n",
    "queueDelivering10 = []\n",
    "def delivery10(idOrder):\n",
    "    queueDelivering10.append(idOrder)\n",
    "    #Have the delivery time of the order, based on the current time + 30\n",
    "    queueDelivering10.append(datetime.today() + timedelta(minutes=30))\n",
    "    # mycursor.execute(\"UPDATE delivery_ops SET idOrder = '{}' WHERE idDriver = 1 \".format(idOrder))\n",
    "    #take the command of the order list and place it in the driver\n",
    "\n",
    "    print(result)\n",
    "    \n",
    "queueDelivering20 = []\n",
    "def delivery20(idOrder):\n",
    "    queueDelivering20.append(idOrder)\n",
    "    queueDelivering20.append(datetime.today() + timedelta(minutes=30))\n",
    "    \n",
    "queueDelivering30 = []\n",
    "def delivery30(idOrder):\n",
    "    queueDelivering20.append(idOrder)\n",
    "    queueDelivering20.append(datetime.today() + timedelta(minutes=30))\n",
    "    \n",
    "\n",
    "\n",
    "\n",
    "index = 1\n",
    "postcode=10\n",
    "laurent_func(index)\n",
    "print(queueOrders)\n",
    "\n",
    "#check every 2 seconds in the list if there is a command and if so put it in the attributed postcode, but also checks\n",
    "#if the driver is there or not (based on the idOrder that the class delivery_ops has)\n",
    "while True:\n",
    "    for i in range (1,len(queueOrders),2) : \n",
    "        if datetime.today().time() > queueOrders[i] :\n",
    "            if postcode==10:\n",
    "                availability = \"SELECT idOrder FROM delivery_ops WHERE idDriver = 1  \"\n",
    "                result = mycursor.execute(availability)\n",
    "                if result == None:\n",
    "                    delivery10(queueOrders.pop(0))\n",
    "                    queueOrders.pop(0)\n",
    "            elif postcode==20:\n",
    "                availability = \"SELECT idOrder FROM delivery_ops WHERE idDriver = 2  \"\n",
    "                result = mycursor.execute(availability)\n",
    "                if result == None:\n",
    "                    delivery20(queueOrders.pop(0))\n",
    "                    queueOrders.pop(0)\n",
    "            elif postcode==30:\n",
    "                availability = \"SELECT idOrder FROM delivery_ops WHERE idDriver = 3  \"\n",
    "                result = mycursor.execute(availability)\n",
    "                if result == None:\n",
    "                    delivery30(queueOrders.pop(0))\n",
    "                    queueOrders.pop(0)\n",
    "                \n",
    "            print(\"send to the delivery\")\n",
    "        else:\n",
    "            print(\"checking\")\n",
    "        #print(queueOrders)\n",
    "    time.sleep(2)\n"
   ]
  },
  {
   "cell_type": "code",
   "execution_count": 3,
   "metadata": {},
   "outputs": [
    {
     "name": "stdout",
     "output_type": "stream",
     "text": [
      "hello\n"
     ]
    }
   ],
   "source": [
    "print(\"hello\")"
   ]
  },
  {
   "cell_type": "code",
   "execution_count": null,
   "metadata": {},
   "outputs": [],
   "source": [
    "laurent_func(idOrder)\n",
    "    #get time + 10 min the send to def delivery\n",
    "    #cancel\n",
    "delivery(idOrder)\n",
    "    #get timer + 30 the end of the delivering\n",
    "    #attribut a command to a deliver"
   ]
  },
  {
   "cell_type": "code",
   "execution_count": null,
   "metadata": {},
   "outputs": [],
   "source": []
>>>>>>> 144edce3e5a81e16988955eb56a509e058e7d55a
  }
 ],
 "metadata": {
  "kernelspec": {
<<<<<<< HEAD
   "display_name": "Python 3",
=======
   "display_name": "Python 3 (ipykernel)",
>>>>>>> 144edce3e5a81e16988955eb56a509e058e7d55a
   "language": "python",
   "name": "python3"
  },
  "language_info": {
   "codemirror_mode": {
    "name": "ipython",
    "version": 3
   },
   "file_extension": ".py",
   "mimetype": "text/x-python",
   "name": "python",
   "nbconvert_exporter": "python",
   "pygments_lexer": "ipython3",
<<<<<<< HEAD
   "version": "3.8.5"
=======
   "version": "3.9.12"
>>>>>>> 144edce3e5a81e16988955eb56a509e058e7d55a
  }
 },
 "nbformat": 4,
 "nbformat_minor": 4
}
